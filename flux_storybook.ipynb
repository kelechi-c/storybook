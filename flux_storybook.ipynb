{
 "cells": [
  {
   "cell_type": "markdown",
   "metadata": {},
   "source": [
    "## Storybook\n",
    "\n",
    "A hobby 'model-bending' project which takes a story/narration, generates sequence of images as a neural visualization.\n",
    "\n",
    "It uses a text2image model(**Flux**) and an LLM(**Qwen-0.5B**) for restructuring the text. "
   ]
  },
  {
   "cell_type": "code",
   "execution_count": null,
   "metadata": {},
   "outputs": [],
   "source": [
    "! pip install -q diffusers"
   ]
  },
  {
   "cell_type": "code",
   "execution_count": null,
   "metadata": {},
   "outputs": [],
   "source": [
    "import torch, gc, os, math\n",
    "from diffusers import FluxPipeline\n",
    "from tqdm.auto import tqdm\n",
    "import matplotlib.pyplot as plt\n",
    "\n",
    "\n",
    "torch_dtype = torch.bfloat16\n",
    "device = \"cuda\"\n",
    "model_id = \"Freepik/flux.1-lite-8B-alpha\"\n",
    "folder = \"gend_images\"\n",
    "guidance_scale = 3.5\n",
    "n_steps = 20\n",
    "seed = 13\n",
    "os.makedirs(folder, exist_ok=True)"
   ]
  },
  {
   "cell_type": "code",
   "execution_count": null,
   "metadata": {},
   "outputs": [],
   "source": [
    "def clearmem():\n",
    "    gc.collect()\n",
    "    torch.cuda.empty_cache()\n",
    "\n",
    "clearmem()"
   ]
  },
  {
   "cell_type": "markdown",
   "metadata": {},
   "source": [
    "### Flux/Image generation pipeline"
   ]
  },
  {
   "cell_type": "code",
   "execution_count": null,
   "metadata": {},
   "outputs": [],
   "source": [
    "fluxpipe = FluxPipeline.from_pretrained(\n",
    "    model_id, torch_dtype=torch_dtype, device_map=\"balanced\"\n",
    ")"
   ]
  },
  {
   "cell_type": "code",
   "execution_count": null,
   "metadata": {},
   "outputs": [],
   "source": [
    "def generate_image(prompt):\n",
    "    with torch.inference_mode():\n",
    "        image = fluxpipe(\n",
    "            prompt=prompt,\n",
    "            generator=torch.Generator(device=\"cpu\").manual_seed(seed),\n",
    "            num_inference_steps=n_steps,\n",
    "            guidance_scale=guidance_scale,\n",
    "            height=512,\n",
    "            width=512,\n",
    "        ).images[0]\n",
    "    path = prompt[:20] + \".png\"\n",
    "    image.save(os.path.join(folder, path))\n",
    "\n",
    "    return image"
   ]
  },
  {
   "cell_type": "code",
   "execution_count": null,
   "metadata": {},
   "outputs": [],
   "source": [
    "sample = \"renaissance painting of a colorful jellyfish, underwater in the dark ocean midjourney style\"\n",
    "\n",
    "v = generate_image(sample)\n",
    "\n",
    "v"
   ]
  },
  {
   "cell_type": "markdown",
   "metadata": {},
   "source": [
    "### LLM part"
   ]
  },
  {
   "cell_type": "code",
   "execution_count": null,
   "metadata": {},
   "outputs": [],
   "source": [
    "from transformers import AutoModelForCausalLM, AutoTokenizer\n",
    "\n",
    "qwen_model = \"Qwen/Qwen2.5-0.5B-Instruct\""
   ]
  },
  {
   "cell_type": "code",
   "execution_count": null,
   "metadata": {},
   "outputs": [],
   "source": [
    "model = AutoModelForCausalLM.from_pretrained(\n",
    "    qwen_model, torch_dtype=torch.bfloat16, device_map=\"auto\"\n",
    ")\n",
    "\n",
    "tokenizer = AutoTokenizer.from_pretrained(qwen_model)"
   ]
  },
  {
   "cell_type": "code",
   "execution_count": null,
   "metadata": {},
   "outputs": [],
   "source": [
    "def save_models():\n",
    "    try:\n",
    "        model.save_pretrained(\"qwen05-model\")\n",
    "        tokenizer.save_pretrained(\"qwen05-tokenizer\")\n",
    "        fluxpipe.save_pretrained(\"flux_lite\")\n",
    "    except Exception as e:\n",
    "        print(f\"Save error: {e}\")\n",
    "\n",
    "\n",
    "save_models()"
   ]
  },
  {
   "cell_type": "code",
   "execution_count": null,
   "metadata": {},
   "outputs": [],
   "source": [
    "story = \"\"\"\n",
    "    There were dragons chasing me through the forest. \n",
    "    I ran through the forest and arrrived at the edge of an ocean cliff, Then I jumped into the ocean.\n",
    "    The dragons followed me into the water, and swam into the ocean. Here were many colorful jellyfish present\n",
    "\"\"\""
   ]
  },
  {
   "cell_type": "code",
   "execution_count": null,
   "metadata": {},
   "outputs": [],
   "source": [
    "messages = [\n",
    "    {\n",
    "        \"role\": \"system\",\n",
    "        \"content\": \"You are a story teller, and whatever story you are given, split it into meaningful parts for image generation prompts. Augment the text slightly to capture the scene more for image generation\",\n",
    "    },\n",
    "    {\"role\": \"user\", \"content\": story},\n",
    "]\n",
    "\n",
    "text = tokenizer.apply_chat_template(\n",
    "    messages, tokenize=False, add_generation_prompt=True\n",
    ")\n",
    "\n",
    "text"
   ]
  },
  {
   "cell_type": "code",
   "execution_count": null,
   "metadata": {},
   "outputs": [],
   "source": [
    "model_inputs = tokenizer([text], return_tensors=\"pt\").to(model.device)\n",
    "\n",
    "generated_ids = model.generate(**model_inputs, max_new_tokens=512)\n",
    "generated_ids = [\n",
    "    output_ids[len(input_ids) :]\n",
    "    for input_ids, output_ids in zip(model_inputs.input_ids, generated_ids)\n",
    "]\n",
    "\n",
    "response = tokenizer.batch_decode(generated_ids, skip_special_tokens=True)[0]\n",
    "\n",
    "response"
   ]
  },
  {
   "cell_type": "markdown",
   "metadata": {},
   "source": [
    "### Storybook generation"
   ]
  },
  {
   "cell_type": "markdown",
   "metadata": {},
   "source": [
    "- We take the segemnts generated by the diffusion model and feed them one by one into FLUX, then take the seqeunce of images and strign as one gif.\n",
    "- In v1, we will generate 4 versions of the image, or use latent interpolation to create a video-like effect."
   ]
  },
  {
   "cell_type": "code",
   "execution_count": null,
   "metadata": {},
   "outputs": [],
   "source": [
    "prompt_list = response.split(\".\\n\\n\")\n",
    "\n",
    "print(prompt_list)\n",
    "print(f\"total prompts = {len(prompt_list)}\")"
   ]
  },
  {
   "cell_type": "code",
   "execution_count": null,
   "metadata": {},
   "outputs": [],
   "source": [
    "image_seq = []\n",
    "\n",
    "for prompt in tqdm(\n",
    "    prompt_list, total=len(prompt_list), desc=\"generating images from story\"\n",
    "):\n",
    "    image = generate_image(prompt)\n",
    "    image_seq.append(image)\n",
    "    clearmem()"
   ]
  },
  {
   "cell_type": "code",
   "execution_count": null,
   "metadata": {},
   "outputs": [],
   "source": [
    "def display_image_grid(images, titles=prompt_list, figsize=(15, 15)):\n",
    "    # Calculate number of rows needed\n",
    "    n_images = len(images)\n",
    "    n_cols = 4\n",
    "    n_rows = math.ceil(n_images / n_cols)\n",
    "\n",
    "    # Create figure and adjust size\n",
    "    fig = plt.figure(figsize=figsize)\n",
    "    # Add padding between subplots\n",
    "    plt.subplots_adjust(hspace=0.3, wspace=0.3)\n",
    "\n",
    "    # Plot each image\n",
    "    for i in range(n_images):\n",
    "        # Create subplot\n",
    "        ax = fig.add_subplot(n_rows, n_cols, i + 1)\n",
    "\n",
    "        ax.imshow(images[i])\n",
    "        # Remove axes\n",
    "        ax.axis(\"off\")\n",
    "\n",
    "        # Add title if provided\n",
    "        if titles is not None and i < len(titles):\n",
    "            ax.set_title(titles[i][:10])\n",
    "\n",
    "    # Remove empty subplots\n",
    "    for i in range(n_images, n_rows * n_cols):\n",
    "        fig.add_subplot(n_rows, n_cols, i + 1).remove()\n",
    "\n",
    "    #     plt.tight_layout()\n",
    "    plt.show()\n",
    "\n",
    "\n",
    "display_image_grid(image_seq)"
   ]
  }
 ],
 "metadata": {
  "language_info": {
   "name": "python"
  }
 },
 "nbformat": 4,
 "nbformat_minor": 2
}
